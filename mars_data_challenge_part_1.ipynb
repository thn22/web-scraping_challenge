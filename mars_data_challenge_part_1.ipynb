{
 "cells": [
  {
   "cell_type": "code",
   "execution_count": 2,
   "id": "81533eb9",
   "metadata": {},
   "outputs": [],
   "source": [
    "#import dependencies\n",
    "import pandas as pd\n",
    "from bs4 import BeautifulSoup\n",
    "from splinter import Browser\n",
    "from webdriver_manager.chrome import ChromeDriverManager"
   ]
  },
  {
   "cell_type": "code",
   "execution_count": 3,
   "id": "92ad899a",
   "metadata": {},
   "outputs": [],
   "source": [
    "#set up splinter\n",
    "executable_path = {'executable_path': ChromeDriverManager().install()}\n",
    "browser = Browser('chrome', **executable_path, headless=False)"
   ]
  },
  {
   "cell_type": "code",
   "execution_count": 4,
   "id": "94cd8644",
   "metadata": {},
   "outputs": [],
   "source": [
    "#open website\n",
    "url = 'https://redplanetscience.com/'\n",
    "browser.visit(url)"
   ]
  },
  {
   "cell_type": "code",
   "execution_count": 5,
   "id": "7f9756fe",
   "metadata": {},
   "outputs": [],
   "source": [
    "#scrape page with BeautifulSoup\n",
    "html = browser.html\n",
    "soup = BeautifulSoup(html, 'html.parser')\n",
    "\n",
    "articles = soup.find_all('section', class_='image_and_description_container')\n",
    "\n",
    "for article in articles:\n",
    "    title = article.find('div', class_='content_title').text\n",
    "\n",
    "    preview = article.find('div', class_='article_teaser_body').text\n",
    "    \n",
    "    #assign values to dictionary\n",
    "    mars_dict = {\n",
    "        'title': title,\n",
    "        'preview': preview\n",
    "    }\n",
    "#cannot figure out why only the first article is being scraped\n",
    "    \n",
    "    #close browser after scraping\n",
    "    browser.quit()"
   ]
  },
  {
   "cell_type": "code",
   "execution_count": 6,
   "id": "884a53bc",
   "metadata": {},
   "outputs": [],
   "source": [
    "#create empty list\n",
    "list_ = []\n",
    "\n",
    "#append dictionary to the list\n",
    "list_.append(mars_dict)"
   ]
  },
  {
   "cell_type": "code",
   "execution_count": 7,
   "id": "63d5fd93",
   "metadata": {},
   "outputs": [
    {
     "data": {
      "text/plain": [
       "[{'title': \"A Year of Surprising Science From NASA's InSight Mars Mission\",\n",
       "  'preview': \"A batch of new papers summarizes the lander's findings above and below the surface of the Red Planet.\"}]"
      ]
     },
     "execution_count": 7,
     "metadata": {},
     "output_type": "execute_result"
    }
   ],
   "source": [
    "#print list of dictionary\n",
    "list_"
   ]
  },
  {
   "cell_type": "code",
   "execution_count": null,
   "id": "9c1a9a09",
   "metadata": {},
   "outputs": [],
   "source": []
  }
 ],
 "metadata": {
  "kernelspec": {
   "display_name": "PythonData",
   "language": "python",
   "name": "pythondata"
  },
  "language_info": {
   "codemirror_mode": {
    "name": "ipython",
    "version": 3
   },
   "file_extension": ".py",
   "mimetype": "text/x-python",
   "name": "python",
   "nbconvert_exporter": "python",
   "pygments_lexer": "ipython3",
   "version": "3.7.7"
  }
 },
 "nbformat": 4,
 "nbformat_minor": 5
}
